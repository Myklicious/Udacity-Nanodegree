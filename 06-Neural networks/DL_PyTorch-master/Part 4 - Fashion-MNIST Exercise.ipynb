{
 "cells": [
  {
   "cell_type": "markdown",
   "metadata": {},
   "source": [
    "# Classifying Fashion-MNIST\n",
    "\n",
    "Now it's your turn to build and train a neural network. You'll be using the [Fashion-MNIST dataset](https://github.com/zalandoresearch/fashion-mnist), a drop-in replacement for the MNIST dataset. MNIST is actually quite trivial with neural networks where you can easily achieve better than 97% accuracy. Fashion-MNIST is a set of 28x28 greyscale images of clothes. It's more complex than MNIST, so it's a better representation of the actual performance of your network, and a better representation of datasets you'll use in the real world.\n",
    "\n",
    "<img src='assets/fashion-mnist-sprite.png' width=500px>\n",
    "\n",
    "In this notebook, you'll build your own neural network. For the most part, you could just copy and paste the code from Part 3, but you wouldn't be learning. It's important for you to write the code yourself and get it to work. Feel free to consult the previous notebook though as you work through this.\n",
    "\n",
    "First off, let's load the dataset through torchvision."
   ]
  },
  {
   "cell_type": "code",
   "execution_count": 28,
   "metadata": {
    "tags": []
   },
   "outputs": [],
   "source": [
    "import torch\n",
    "from torchvision import datasets, transforms\n",
    "import helper\n",
    "\n",
    "# Define a transform to normalize the data\n",
    "transform = transforms.Compose([transforms.ToTensor(),\n",
    "                                transforms.Normalize((0.5, ), (0.5, ))])\n",
    "# Download and load the training data\n",
    "trainset = datasets.FashionMNIST('F_MNIST_data/', download=True, train=True, transform=transform)\n",
    "trainloader = torch.utils.data.DataLoader(trainset, batch_size=64, shuffle=True)\n",
    "\n",
    "# Download and load the test data\n",
    "testset = datasets.FashionMNIST('F_MNIST_data/', download=True, train=False, transform=transform)\n",
    "testloader = torch.utils.data.DataLoader(testset, batch_size=64, shuffle=True)"
   ]
  },
  {
   "cell_type": "markdown",
   "metadata": {},
   "source": [
    "Here we can see one of the images."
   ]
  },
  {
   "cell_type": "code",
   "execution_count": 29,
   "metadata": {},
   "outputs": [
    {
     "output_type": "display_data",
     "data": {
      "text/plain": "<Figure size 432x288 with 1 Axes>",
      "image/png": "[encoded data removed]"
     },
     "metadata": {
      "image/png": {
       "width": 231,
       "height": 231
      },
      "needs_background": "light"
     }
    }
   ],
   "source": [
    "image, label = next(iter(trainloader))\n",
    "helper.imshow(image[0,:]);"
   ]
  },
  {
   "cell_type": "markdown",
   "metadata": {},
   "source": [
    "With the data loaded, it's time to import the necessary packages."
   ]
  },
  {
   "cell_type": "code",
   "execution_count": 30,
   "metadata": {},
   "outputs": [],
   "source": [
    "%matplotlib inline\n",
    "%config InlineBackend.figure_format = 'retina'\n",
    "\n",
    "import matplotlib.pyplot as plt\n",
    "import numpy as np\n",
    "import time\n",
    "\n",
    "import torch\n",
    "from torch import nn\n",
    "from torch import optim\n",
    "import torch.nn.functional as F\n",
    "from torchvision import datasets, transforms\n",
    "from collections import OrderedDict\n",
    "\n",
    "import helper"
   ]
  },
  {
   "cell_type": "markdown",
   "metadata": {},
   "source": [
    "## Building the network\n",
    "\n",
    "Here you should define your network. As with MNIST, each image is 28x28 which is a total of 784 pixels, and there are 10 classes. You should include at least one hidden layer. We suggest you use ReLU activations for the layers and to return the logits from the forward pass. It's up to you how many layers you add and the size of those layers."
   ]
  },
  {
   "cell_type": "code",
   "execution_count": 31,
   "metadata": {},
   "outputs": [],
   "source": [
    "# TODO: Define your network architecture here\n",
    "\n",
    "input_size = 784\n",
    "hidden_sizes = [100, 50]\n",
    "output_size = 10\n",
    "\n",
    "model = nn.Sequential(OrderedDict([\n",
    "                        ('fcl', nn.Linear(input_size, hidden_sizes[0])),\n",
    "                        ('relu1', nn.ReLU()), \n",
    "                        ('fc2', nn.Linear(hidden_sizes[0], hidden_sizes[1])),\n",
    "                        ('relu2', nn.ReLU()),\n",
    "                        ('logits', nn.Linear(hidden_sizes[1], output_size)),\n",
    "                        ]))\n"
   ]
  },
  {
   "cell_type": "markdown",
   "metadata": {},
   "source": [
    "# Train the network\n",
    "\n",
    "Now you should create your network and train it. First you'll want to define [the criterion](http://pytorch.org/docs/master/nn.html#loss-functions) ( something like `nn.CrossEntropyLoss`) and [the optimizer](http://pytorch.org/docs/master/optim.html) (typically `optim.SGD` or `optim.Adam`).\n",
    "\n",
    "Then write the training code. Remember the training pass is a fairly straightforward process:\n",
    "\n",
    "* Make a forward pass through the network to get the logits \n",
    "* Use the logits to calculate the loss\n",
    "* Perform a backward pass through the network with `loss.backward()` to calculate the gradients\n",
    "* Take a step with the optimizer to update the weights\n",
    "\n",
    "By adjusting the hyperparameters (hidden units, learning rate, etc), you should be able to get the training loss below 0.4."
   ]
  },
  {
   "cell_type": "code",
   "execution_count": 32,
   "metadata": {},
   "outputs": [],
   "source": [
    "# TODO: Create the network, define the criterion and optimizer\n",
    "\n",
    "criterion = nn.CrossEntropyLoss()\n",
    "optimizer = optim.SGD(model.parameters(), lr = 0.03)\n",
    "\n"
   ]
  },
  {
   "cell_type": "code",
   "execution_count": 33,
   "metadata": {
    "tags": []
   },
   "outputs": [
    {
     "output_type": "stream",
     "name": "stdout",
     "text": "Epoch: 1/3... Loss: 1.9438 \nEpoch: 1/3... Loss: 1.3344 \nEpoch: 1/3... Loss: 0.9745 \nEpoch: 1/3... Loss: 0.8418 \nEpoch: 1/3... Loss: 0.7576 \nEpoch: 1/3... Loss: 0.6480 \nEpoch: 1/3... Loss: 0.6747 \nEpoch: 1/3... Loss: 0.6495 \nEpoch: 1/3... Loss: 0.4729 \nEpoch: 1/3... Loss: 0.6788 \nEpoch: 1/3... Loss: 0.5914 \nEpoch: 1/3... Loss: 0.6698 \nEpoch: 1/3... Loss: 0.4412 \nEpoch: 1/3... Loss: 0.6944 \nEpoch: 1/3... Loss: 0.4526 \nEpoch: 1/3... Loss: 0.5291 \nEpoch: 1/3... Loss: 0.7043 \nEpoch: 1/3... Loss: 0.5130 \nEpoch: 1/3... Loss: 0.4647 \nEpoch: 1/3... Loss: 0.5986 \nEpoch: 1/3... Loss: 0.5692 \nEpoch: 1/3... Loss: 0.6946 \nEpoch: 1/3... Loss: 0.3836 \nEpoch: 2/3... Loss: 0.4182 \nEpoch: 2/3... Loss: 0.4409 \nEpoch: 2/3... Loss: 0.4729 \nEpoch: 2/3... Loss: 0.5540 \nEpoch: 2/3... Loss: 0.4543 \nEpoch: 2/3... Loss: 0.5416 \nEpoch: 2/3... Loss: 0.5720 \nEpoch: 2/3... Loss: 0.5488 \nEpoch: 2/3... Loss: 0.5464 \nEpoch: 2/3... Loss: 0.5017 \nEpoch: 2/3... Loss: 0.4980 \nEpoch: 2/3... Loss: 0.4615 \nEpoch: 2/3... Loss: 0.4548 \nEpoch: 2/3... Loss: 0.4505 \nEpoch: 2/3... Loss: 0.3635 \nEpoch: 2/3... Loss: 0.4868 \nEpoch: 2/3... Loss: 0.3867 \nEpoch: 2/3... Loss: 0.3064 \nEpoch: 2/3... Loss: 0.2724 \nEpoch: 2/3... Loss: 0.5919 \nEpoch: 2/3... Loss: 0.2834 \nEpoch: 2/3... Loss: 0.4320 \nEpoch: 2/3... Loss: 0.2734 \nEpoch: 3/3... Loss: 0.4606 \nEpoch: 3/3... Loss: 0.4467 \nEpoch: 3/3... Loss: 0.5969 \nEpoch: 3/3... Loss: 0.3549 \nEpoch: 3/3... Loss: 0.3887 \nEpoch: 3/3... Loss: 0.5389 \nEpoch: 3/3... Loss: 0.5232 \nEpoch: 3/3... Loss: 0.3042 \nEpoch: 3/3... Loss: 0.5049 \nEpoch: 3/3... Loss: 0.3097 \nEpoch: 3/3... Loss: 0.4417 \nEpoch: 3/3... Loss: 0.4551 \nEpoch: 3/3... Loss: 0.3523 \nEpoch: 3/3... Loss: 0.3607 \nEpoch: 3/3... Loss: 0.5018 \nEpoch: 3/3... Loss: 0.3515 \nEpoch: 3/3... Loss: 0.4473 \nEpoch: 3/3... Loss: 0.5460 \nEpoch: 3/3... Loss: 0.4514 \nEpoch: 3/3... Loss: 0.4711 \nEpoch: 3/3... Loss: 0.2496 \nEpoch: 3/3... Loss: 0.3888 \nEpoch: 3/3... Loss: 0.4471 \nEpoch: 3/3... Loss: 0.2690 \n"
    }
   ],
   "source": [
    "# TODO: Train the network here\n",
    "\n",
    "epochs = 3\n",
    "print_every = 40\n",
    "steps = 0\n",
    "\n",
    "for e in range (epochs):\n",
    "    running_loss = 0\n",
    "    for images, labels in iter(trainloader):\n",
    "        steps += 1\n",
    "\n",
    "        images.resize_(images.size()[0], 784)\n",
    "\n",
    "        optimizer.zero_grad()\n",
    "\n",
    "        output = model.forward(images)\n",
    "        loss = criterion(output, labels)\n",
    "        loss.backward()\n",
    "        optimizer.step()\n",
    "\n",
    "        running_loss += loss.item()\n",
    "\n",
    "        if steps % print_every == 0:\n",
    "            print(f'Epoch: {e+1}/{epochs}... Loss: {running_loss:.4f} ')\n",
    "\n",
    "        running_loss = 0"
   ]
  },
  {
   "cell_type": "code",
   "execution_count": 38,
   "metadata": {},
   "outputs": [
    {
     "output_type": "display_data",
     "data": {
      "text/plain": "<Figure size 432x648 with 2 Axes>",
      "image/png": "[encoded data removed]"
     },
     "metadata": {
      "image/png": {
       "width": 424,
       "height": 216
      },
      "needs_background": "light"
     }
    }
   ],
   "source": [
    "# Test out your network!\n",
    "\n",
    "dataiter = iter(testloader)\n",
    "images, labels = dataiter.next()\n",
    "img = images[0]\n",
    "# Convert 2D image to 1D vector\n",
    "img = img.resize_(1, 784)\n",
    "\n",
    "# TODO: Calculate the class probabilities (softmax) for img\n",
    "with torch.no_grad():\n",
    "    logits = model.forward(img)\n",
    "\n",
    "ps = F.softmax(logits, dim = 1)\n",
    "\n",
    "# Plot the image and probabilities\n",
    "helper.view_classify(img.resize_(1, 28, 28), ps, version='Fashion')"
   ]
  },
  {
   "cell_type": "markdown",
   "metadata": {},
   "source": [
    "Now that your network is trained, you'll want to save it to disk so you can load it later instead of training it again. Obviously, it's impractical to train a network every time you need one. In practice, you'll train it once, save the model, then reload it for further training or making predictions. In the next part, I'll show you how to save and load trained models."
   ]
  },
  {
   "cell_type": "code",
   "execution_count": null,
   "metadata": {},
   "outputs": [],
   "source": []
  }
 ],
 "metadata": {
  "kernelspec": {
   "display_name": "Python 3",
   "language": "python",
   "name": "python3"
  },
  "language_info": {
   "codemirror_mode": {
    "name": "ipython",
    "version": 3
   },
   "file_extension": ".py",
   "mimetype": "text/x-python",
   "name": "python",
   "nbconvert_exporter": "python",
   "pygments_lexer": "ipython3",
   "version": "3.7.6-final"
  }
 },
 "nbformat": 4,
 "nbformat_minor": 2
}