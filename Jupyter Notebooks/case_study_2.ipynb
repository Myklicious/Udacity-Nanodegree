{
 "cells": [
  {
   "cell_type": "markdown",
   "metadata": {
    "collapsed": true
   },
   "source": [
    "# Exploring the EPA Data set in 2018 and 2008\n",
    "Use the space below to explore `all_alpha_08.csv` and `all_alpha_18.csv` to answer the quiz questions below."
   ]
  },
  {
   "cell_type": "code",
   "execution_count": 1,
   "metadata": {},
   "outputs": [],
   "source": [
    "#import packages\n",
    "import numpy as np \n",
    "import pandas as pd\n",
    "import seaborn as sns\n",
    "sns.set_style('darkgrid')\n",
    "\n",
    "%matplotlib inline"
   ]
  },
  {
   "cell_type": "code",
   "execution_count": 7,
   "metadata": {},
   "outputs": [],
   "source": [
    "#import CSV files\n",
    "df_08 = pd.read_csv('Datasets/EPA/all_alpha_08.csv')\n",
    "df_18 = pd.read_csv('Datasets/EPA/all_alpha_18.csv')"
   ]
  },
  {
   "cell_type": "markdown",
   "metadata": {},
   "source": [
    "## Explore the data set"
   ]
  },
  {
   "cell_type": "code",
   "execution_count": 28,
   "metadata": {},
   "outputs": [
    {
     "name": "stdout",
     "output_type": "stream",
     "text": "<class 'pandas.core.frame.DataFrame'>\nRangeIndex: 2404 entries, 0 to 2403\nData columns (total 18 columns):\n #   Column                Non-Null Count  Dtype  \n---  ------                --------------  -----  \n 0   Model                 2404 non-null   object \n 1   Displ                 2404 non-null   float64\n 2   Cyl                   2205 non-null   object \n 3   Trans                 2205 non-null   object \n 4   Drive                 2311 non-null   object \n 5   Fuel                  2404 non-null   object \n 6   Sales Area            2404 non-null   object \n 7   Stnd                  2404 non-null   object \n 8   Underhood ID          2404 non-null   object \n 9   Veh Class             2404 non-null   object \n 10  Air Pollution Score   2404 non-null   object \n 11  FE Calc Appr          2205 non-null   object \n 12  City MPG              2205 non-null   object \n 13  Hwy MPG               2205 non-null   object \n 14  Cmb MPG               2205 non-null   object \n 15  Unadj Cmb MPG         2205 non-null   float64\n 16  Greenhouse Gas Score  2205 non-null   object \n 17  SmartWay              2404 non-null   object \ndtypes: float64(2), object(16)\nmemory usage: 338.2+ KB\n"
    }
   ],
   "source": [
    "df_08.info()"
   ]
  },
  {
   "cell_type": "code",
   "execution_count": 25,
   "metadata": {},
   "outputs": [
    {
     "name": "stdout",
     "output_type": "stream",
     "text": "<class 'pandas.core.frame.DataFrame'>\nRangeIndex: 1611 entries, 0 to 1610\nData columns (total 18 columns):\n #   Column                Non-Null Count  Dtype  \n---  ------                --------------  -----  \n 0   Model                 1611 non-null   object \n 1   Displ                 1609 non-null   float64\n 2   Cyl                   1609 non-null   float64\n 3   Trans                 1611 non-null   object \n 4   Drive                 1611 non-null   object \n 5   Fuel                  1611 non-null   object \n 6   Cert Region           1611 non-null   object \n 7   Stnd                  1611 non-null   object \n 8   Stnd Description      1611 non-null   object \n 9   Underhood ID          1611 non-null   object \n 10  Veh Class             1611 non-null   object \n 11  Air Pollution Score   1611 non-null   int64  \n 12  City MPG              1611 non-null   object \n 13  Hwy MPG               1611 non-null   object \n 14  Cmb MPG               1611 non-null   object \n 15  Greenhouse Gas Score  1611 non-null   int64  \n 16  SmartWay              1611 non-null   object \n 17  Comb CO2              1611 non-null   object \ndtypes: float64(2), int64(2), object(14)\nmemory usage: 226.7+ KB\n"
    }
   ],
   "source": [
    "df_18.info()"
   ]
  },
  {
   "cell_type": "code",
   "execution_count": 26,
   "metadata": {},
   "outputs": [
    {
     "data": {
      "text/plain": "0"
     },
     "execution_count": 26,
     "metadata": {},
     "output_type": "execute_result"
    }
   ],
   "source": [
    "#count duplicates\n",
    "sum(df_18.duplicated())"
   ]
  },
  {
   "cell_type": "code",
   "execution_count": 27,
   "metadata": {},
   "outputs": [
    {
     "data": {
      "text/plain": "2"
     },
     "execution_count": 27,
     "metadata": {},
     "output_type": "execute_result"
    }
   ],
   "source": [
    "#rows with missing data\n",
    "sum(df_18.isnull().any(axis=1))"
   ]
  },
  {
   "cell_type": "code",
   "execution_count": 29,
   "metadata": {},
   "outputs": [
    {
     "data": {
      "text/plain": "Model                   436\nDispl                    47\nCyl                       8\nTrans                    14\nDrive                     2\nFuel                      5\nSales Area                3\nStnd                     12\nUnderhood ID            343\nVeh Class                 9\nAir Pollution Score      13\nFE Calc Appr              2\nCity MPG                 39\nHwy MPG                  43\nCmb MPG                  38\nUnadj Cmb MPG           721\nGreenhouse Gas Score     20\nSmartWay                  2\ndtype: int64"
     },
     "execution_count": 29,
     "metadata": {},
     "output_type": "execute_result"
    }
   ],
   "source": [
    "#find nonunique values in 2008 data\n",
    "df_08.nunique()"
   ]
  },
  {
   "cell_type": "code",
   "execution_count": 30,
   "metadata": {},
   "outputs": [
    {
     "data": {
      "text/plain": "Model                   367\nDispl                    36\nCyl                       7\nTrans                    26\nDrive                     2\nFuel                      5\nCert Region               2\nStnd                     19\nStnd Description         19\nUnderhood ID            230\nVeh Class                 9\nAir Pollution Score       6\nCity MPG                 58\nHwy MPG                  62\nCmb MPG                  57\nGreenhouse Gas Score     10\nSmartWay                  3\nComb CO2                299\ndtype: int64"
     },
     "execution_count": 30,
     "metadata": {},
     "output_type": "execute_result"
    }
   ],
   "source": [
    "df_18.nunique()\n"
   ]
  },
  {
   "cell_type": "code",
   "execution_count": 34,
   "metadata": {},
   "outputs": [
    {
     "data": {
      "text/html": "<div>\n<style scoped>\n    .dataframe tbody tr th:only-of-type {\n        vertical-align: middle;\n    }\n\n    .dataframe tbody tr th {\n        vertical-align: top;\n    }\n\n    .dataframe thead th {\n        text-align: right;\n    }\n</style>\n<table border=\"1\" class=\"dataframe\">\n  <thead>\n    <tr style=\"text-align: right;\">\n      <th></th>\n      <th>Model</th>\n      <th>Displ</th>\n      <th>Cyl</th>\n      <th>Trans</th>\n      <th>Drive</th>\n      <th>Fuel</th>\n      <th>Sales Area</th>\n      <th>Stnd</th>\n      <th>Underhood ID</th>\n      <th>Veh Class</th>\n      <th>Air Pollution Score</th>\n      <th>FE Calc Appr</th>\n      <th>City MPG</th>\n      <th>Hwy MPG</th>\n      <th>Cmb MPG</th>\n      <th>Unadj Cmb MPG</th>\n      <th>Greenhouse Gas Score</th>\n      <th>SmartWay</th>\n    </tr>\n  </thead>\n  <tbody>\n    <tr>\n      <th>0</th>\n      <td>ACURA MDX</td>\n      <td>3.7</td>\n      <td>(6 cyl)</td>\n      <td>Auto-S5</td>\n      <td>4WD</td>\n      <td>Gasoline</td>\n      <td>CA</td>\n      <td>U2</td>\n      <td>8HNXT03.7PKR</td>\n      <td>SUV</td>\n      <td>7</td>\n      <td>Drv</td>\n      <td>15</td>\n      <td>20</td>\n      <td>17</td>\n      <td>22.0527</td>\n      <td>4</td>\n      <td>no</td>\n    </tr>\n  </tbody>\n</table>\n</div>",
      "text/plain": "       Model  Displ      Cyl    Trans Drive      Fuel Sales Area Stnd  \\\n0  ACURA MDX    3.7  (6 cyl)  Auto-S5   4WD  Gasoline         CA   U2   \n\n   Underhood ID Veh Class Air Pollution Score FE Calc Appr City MPG Hwy MPG  \\\n0  8HNXT03.7PKR       SUV                   7          Drv       15      20   \n\n  Cmb MPG  Unadj Cmb MPG Greenhouse Gas Score SmartWay  \n0      17        22.0527                    4       no  "
     },
     "execution_count": 34,
     "metadata": {},
     "output_type": "execute_result"
    }
   ],
   "source": [
    "df_08.head(1)"
   ]
  },
  {
   "cell_type": "code",
   "execution_count": 33,
   "metadata": {},
   "outputs": [
    {
     "data": {
      "text/html": "<div>\n<style scoped>\n    .dataframe tbody tr th:only-of-type {\n        vertical-align: middle;\n    }\n\n    .dataframe tbody tr th {\n        vertical-align: top;\n    }\n\n    .dataframe thead th {\n        text-align: right;\n    }\n</style>\n<table border=\"1\" class=\"dataframe\">\n  <thead>\n    <tr style=\"text-align: right;\">\n      <th></th>\n      <th>Model</th>\n      <th>Displ</th>\n      <th>Cyl</th>\n      <th>Trans</th>\n      <th>Drive</th>\n      <th>Fuel</th>\n      <th>Cert Region</th>\n      <th>Stnd</th>\n      <th>Stnd Description</th>\n      <th>Underhood ID</th>\n      <th>Veh Class</th>\n      <th>Air Pollution Score</th>\n      <th>City MPG</th>\n      <th>Hwy MPG</th>\n      <th>Cmb MPG</th>\n      <th>Greenhouse Gas Score</th>\n      <th>SmartWay</th>\n      <th>Comb CO2</th>\n    </tr>\n  </thead>\n  <tbody>\n    <tr>\n      <th>0</th>\n      <td>ACURA RDX</td>\n      <td>3.5</td>\n      <td>6.0</td>\n      <td>SemiAuto-6</td>\n      <td>2WD</td>\n      <td>Gasoline</td>\n      <td>FA</td>\n      <td>T3B125</td>\n      <td>Federal Tier 3 Bin 125</td>\n      <td>JHNXT03.5GV3</td>\n      <td>small SUV</td>\n      <td>3</td>\n      <td>20</td>\n      <td>28</td>\n      <td>23</td>\n      <td>5</td>\n      <td>No</td>\n      <td>386</td>\n    </tr>\n  </tbody>\n</table>\n</div>",
      "text/plain": "       Model  Displ  Cyl       Trans Drive      Fuel Cert Region    Stnd  \\\n0  ACURA RDX    3.5  6.0  SemiAuto-6   2WD  Gasoline          FA  T3B125   \n\n         Stnd Description  Underhood ID  Veh Class  Air Pollution Score  \\\n0  Federal Tier 3 Bin 125  JHNXT03.5GV3  small SUV                    3   \n\n  City MPG Hwy MPG Cmb MPG  Greenhouse Gas Score SmartWay Comb CO2  \n0       20      28      23                     5       No      386  "
     },
     "execution_count": 33,
     "metadata": {},
     "output_type": "execute_result"
    }
   ],
   "source": [
    "df_18.head(1)\n"
   ]
  },
  {
   "cell_type": "code",
   "execution_count": 40,
   "metadata": {},
   "outputs": [
    {
     "data": {
      "text/plain": "array(['Gasoline', 'ethanol/gas', 'ethanol', 'diesel', 'CNG'],\n      dtype=object)"
     },
     "execution_count": 40,
     "metadata": {},
     "output_type": "execute_result"
    }
   ],
   "source": [
    "df_08['Fuel'].unique()"
   ]
  },
  {
   "cell_type": "code",
   "execution_count": 41,
   "metadata": {},
   "outputs": [
    {
     "data": {
      "text/plain": "array(['Gasoline', 'Gasoline/Electricity', 'Diesel', 'Ethanol/Gas',\n       'Electricity'], dtype=object)"
     },
     "execution_count": 41,
     "metadata": {},
     "output_type": "execute_result"
    }
   ],
   "source": [
    "df_18['Fuel'].unique()"
   ]
  },
  {
   "cell_type": "markdown",
   "metadata": {},
   "source": [
    "## Drop extraneous columns from data set"
   ]
  },
  {
   "cell_type": "code",
   "execution_count": 42,
   "metadata": {},
   "outputs": [],
   "source": [
    "drop_08 = ['Stnd', 'Underhood ID', 'FE Calc Appr', 'Unadj Cmb MPG']\n",
    "drop_18 = ['Stnd', 'Stnd Description', 'Underhood ID', 'Comb CO2']\n",
    "df_08.drop(drop_08, inplace = True, axis = 1)\n",
    "df_18.drop(drop_18, inplace = True, axis = 1)\n"
   ]
  },
  {
   "cell_type": "code",
   "execution_count": 45,
   "metadata": {},
   "outputs": [
    {
     "data": {
      "text/html": "<div>\n<style scoped>\n    .dataframe tbody tr th:only-of-type {\n        vertical-align: middle;\n    }\n\n    .dataframe tbody tr th {\n        vertical-align: top;\n    }\n\n    .dataframe thead th {\n        text-align: right;\n    }\n</style>\n<table border=\"1\" class=\"dataframe\">\n  <thead>\n    <tr style=\"text-align: right;\">\n      <th></th>\n      <th>Model</th>\n      <th>Displ</th>\n      <th>Cyl</th>\n      <th>Trans</th>\n      <th>Drive</th>\n      <th>Fuel</th>\n      <th>Sales Area</th>\n      <th>Veh Class</th>\n      <th>Air Pollution Score</th>\n      <th>City MPG</th>\n      <th>Hwy MPG</th>\n      <th>Cmb MPG</th>\n      <th>Greenhouse Gas Score</th>\n      <th>SmartWay</th>\n    </tr>\n  </thead>\n  <tbody>\n    <tr>\n      <th>0</th>\n      <td>ACURA MDX</td>\n      <td>3.7</td>\n      <td>(6 cyl)</td>\n      <td>Auto-S5</td>\n      <td>4WD</td>\n      <td>Gasoline</td>\n      <td>CA</td>\n      <td>SUV</td>\n      <td>7</td>\n      <td>15</td>\n      <td>20</td>\n      <td>17</td>\n      <td>4</td>\n      <td>no</td>\n    </tr>\n  </tbody>\n</table>\n</div>",
      "text/plain": "       Model  Displ      Cyl    Trans Drive      Fuel Sales Area Veh Class  \\\n0  ACURA MDX    3.7  (6 cyl)  Auto-S5   4WD  Gasoline         CA       SUV   \n\n  Air Pollution Score City MPG Hwy MPG Cmb MPG Greenhouse Gas Score SmartWay  \n0                   7       15      20      17                    4       no  "
     },
     "execution_count": 45,
     "metadata": {},
     "output_type": "execute_result"
    }
   ],
   "source": [
    "df_08.head(1)"
   ]
  },
  {
   "cell_type": "code",
   "execution_count": 46,
   "metadata": {},
   "outputs": [
    {
     "data": {
      "text/html": "<div>\n<style scoped>\n    .dataframe tbody tr th:only-of-type {\n        vertical-align: middle;\n    }\n\n    .dataframe tbody tr th {\n        vertical-align: top;\n    }\n\n    .dataframe thead th {\n        text-align: right;\n    }\n</style>\n<table border=\"1\" class=\"dataframe\">\n  <thead>\n    <tr style=\"text-align: right;\">\n      <th></th>\n      <th>Model</th>\n      <th>Displ</th>\n      <th>Cyl</th>\n      <th>Trans</th>\n      <th>Drive</th>\n      <th>Fuel</th>\n      <th>Cert Region</th>\n      <th>Veh Class</th>\n      <th>Air Pollution Score</th>\n      <th>City MPG</th>\n      <th>Hwy MPG</th>\n      <th>Cmb MPG</th>\n      <th>Greenhouse Gas Score</th>\n      <th>SmartWay</th>\n    </tr>\n  </thead>\n  <tbody>\n    <tr>\n      <th>0</th>\n      <td>ACURA RDX</td>\n      <td>3.5</td>\n      <td>6.0</td>\n      <td>SemiAuto-6</td>\n      <td>2WD</td>\n      <td>Gasoline</td>\n      <td>FA</td>\n      <td>small SUV</td>\n      <td>3</td>\n      <td>20</td>\n      <td>28</td>\n      <td>23</td>\n      <td>5</td>\n      <td>No</td>\n    </tr>\n  </tbody>\n</table>\n</div>",
      "text/plain": "       Model  Displ  Cyl       Trans Drive      Fuel Cert Region  Veh Class  \\\n0  ACURA RDX    3.5  6.0  SemiAuto-6   2WD  Gasoline          FA  small SUV   \n\n   Air Pollution Score City MPG Hwy MPG Cmb MPG  Greenhouse Gas Score SmartWay  \n0                    3       20      28      23                     5       No  "
     },
     "execution_count": 46,
     "metadata": {},
     "output_type": "execute_result"
    }
   ],
   "source": [
    "df_18.head(1)"
   ]
  },
  {
   "cell_type": "markdown",
   "metadata": {},
   "source": [
    "## Renaming columns for consistency"
   ]
  },
  {
   "cell_type": "code",
   "execution_count": 49,
   "metadata": {},
   "outputs": [
    {
     "data": {
      "text/html": "<div>\n<style scoped>\n    .dataframe tbody tr th:only-of-type {\n        vertical-align: middle;\n    }\n\n    .dataframe tbody tr th {\n        vertical-align: top;\n    }\n\n    .dataframe thead th {\n        text-align: right;\n    }\n</style>\n<table border=\"1\" class=\"dataframe\">\n  <thead>\n    <tr style=\"text-align: right;\">\n      <th></th>\n      <th>Model</th>\n      <th>Displ</th>\n      <th>Cyl</th>\n      <th>Trans</th>\n      <th>Drive</th>\n      <th>Fuel</th>\n      <th>Cert Region</th>\n      <th>Veh Class</th>\n      <th>Air Pollution Score</th>\n      <th>City MPG</th>\n      <th>Hwy MPG</th>\n      <th>Cmb MPG</th>\n      <th>Greenhouse Gas Score</th>\n      <th>SmartWay</th>\n    </tr>\n  </thead>\n  <tbody>\n    <tr>\n      <th>0</th>\n      <td>ACURA MDX</td>\n      <td>3.7</td>\n      <td>(6 cyl)</td>\n      <td>Auto-S5</td>\n      <td>4WD</td>\n      <td>Gasoline</td>\n      <td>CA</td>\n      <td>SUV</td>\n      <td>7</td>\n      <td>15</td>\n      <td>20</td>\n      <td>17</td>\n      <td>4</td>\n      <td>no</td>\n    </tr>\n  </tbody>\n</table>\n</div>",
      "text/plain": "       Model  Displ      Cyl    Trans Drive      Fuel Cert Region Veh Class  \\\n0  ACURA MDX    3.7  (6 cyl)  Auto-S5   4WD  Gasoline          CA       SUV   \n\n  Air Pollution Score City MPG Hwy MPG Cmb MPG Greenhouse Gas Score SmartWay  \n0                   7       15      20      17                    4       no  "
     },
     "execution_count": 49,
     "metadata": {},
     "output_type": "execute_result"
    }
   ],
   "source": [
    "df_08.rename(columns = {'Sales Area': 'Cert Region'}, inplace = True)\n",
    "\n",
    "df_08.head(1)"
   ]
  },
  {
   "cell_type": "code",
   "execution_count": 50,
   "metadata": {},
   "outputs": [
    {
     "data": {
      "text/html": "<div>\n<style scoped>\n    .dataframe tbody tr th:only-of-type {\n        vertical-align: middle;\n    }\n\n    .dataframe tbody tr th {\n        vertical-align: top;\n    }\n\n    .dataframe thead th {\n        text-align: right;\n    }\n</style>\n<table border=\"1\" class=\"dataframe\">\n  <thead>\n    <tr style=\"text-align: right;\">\n      <th></th>\n      <th>model</th>\n      <th>displ</th>\n      <th>cyl</th>\n      <th>trans</th>\n      <th>drive</th>\n      <th>fuel</th>\n      <th>cert_region</th>\n      <th>veh_class</th>\n      <th>air_pollution_score</th>\n      <th>city_mpg</th>\n      <th>hwy_mpg</th>\n      <th>cmb_mpg</th>\n      <th>greenhouse_gas_score</th>\n      <th>smartway</th>\n    </tr>\n  </thead>\n  <tbody>\n    <tr>\n      <th>0</th>\n      <td>ACURA MDX</td>\n      <td>3.7</td>\n      <td>(6 cyl)</td>\n      <td>Auto-S5</td>\n      <td>4WD</td>\n      <td>Gasoline</td>\n      <td>CA</td>\n      <td>SUV</td>\n      <td>7</td>\n      <td>15</td>\n      <td>20</td>\n      <td>17</td>\n      <td>4</td>\n      <td>no</td>\n    </tr>\n  </tbody>\n</table>\n</div>",
      "text/plain": "       model  displ      cyl    trans drive      fuel cert_region veh_class  \\\n0  ACURA MDX    3.7  (6 cyl)  Auto-S5   4WD  Gasoline          CA       SUV   \n\n  air_pollution_score city_mpg hwy_mpg cmb_mpg greenhouse_gas_score smartway  \n0                   7       15      20      17                    4       no  "
     },
     "execution_count": 50,
     "metadata": {},
     "output_type": "execute_result"
    }
   ],
   "source": [
    "# replace spaces with underscores and lowercase labels for 2008 dataset\n",
    "df_08.rename(columns=lambda x: x.strip().lower().replace(\" \", \"_\"), inplace=True)\n",
    "\n",
    "# confirm changes\n",
    "df_08.head(1)"
   ]
  },
  {
   "cell_type": "code",
   "execution_count": 51,
   "metadata": {},
   "outputs": [
    {
     "data": {
      "text/html": "<div>\n<style scoped>\n    .dataframe tbody tr th:only-of-type {\n        vertical-align: middle;\n    }\n\n    .dataframe tbody tr th {\n        vertical-align: top;\n    }\n\n    .dataframe thead th {\n        text-align: right;\n    }\n</style>\n<table border=\"1\" class=\"dataframe\">\n  <thead>\n    <tr style=\"text-align: right;\">\n      <th></th>\n      <th>model</th>\n      <th>displ</th>\n      <th>cyl</th>\n      <th>trans</th>\n      <th>drive</th>\n      <th>fuel</th>\n      <th>cert_region</th>\n      <th>veh_class</th>\n      <th>air_pollution_score</th>\n      <th>city_mpg</th>\n      <th>hwy_mpg</th>\n      <th>cmb_mpg</th>\n      <th>greenhouse_gas_score</th>\n      <th>smartway</th>\n    </tr>\n  </thead>\n  <tbody>\n    <tr>\n      <th>0</th>\n      <td>ACURA RDX</td>\n      <td>3.5</td>\n      <td>6.0</td>\n      <td>SemiAuto-6</td>\n      <td>2WD</td>\n      <td>Gasoline</td>\n      <td>FA</td>\n      <td>small SUV</td>\n      <td>3</td>\n      <td>20</td>\n      <td>28</td>\n      <td>23</td>\n      <td>5</td>\n      <td>No</td>\n    </tr>\n  </tbody>\n</table>\n</div>",
      "text/plain": "       model  displ  cyl       trans drive      fuel cert_region  veh_class  \\\n0  ACURA RDX    3.5  6.0  SemiAuto-6   2WD  Gasoline          FA  small SUV   \n\n   air_pollution_score city_mpg hwy_mpg cmb_mpg  greenhouse_gas_score smartway  \n0                    3       20      28      23                     5       No  "
     },
     "execution_count": 51,
     "metadata": {},
     "output_type": "execute_result"
    }
   ],
   "source": [
    "# replace spaces with underscores and lowercase labels for 2018 dataset\n",
    "df_18.rename(columns=lambda x: x.strip().lower().replace(\" \", \"_\"), inplace=True)\n",
    "\n",
    "# confirm changes\n",
    "df_18.head(1)"
   ]
  },
  {
   "cell_type": "code",
   "execution_count": 52,
   "metadata": {},
   "outputs": [
    {
     "data": {
      "text/plain": "array([ True,  True,  True,  True,  True,  True,  True,  True,  True,\n        True,  True,  True,  True,  True])"
     },
     "execution_count": 52,
     "metadata": {},
     "output_type": "execute_result"
    }
   ],
   "source": [
    "# confirm column labels for 2008 and 2018 datasets are identical\n",
    "df_08.columns == df_18.columns"
   ]
  },
  {
   "cell_type": "code",
   "execution_count": 53,
   "metadata": {},
   "outputs": [
    {
     "data": {
      "text/plain": "True"
     },
     "execution_count": 53,
     "metadata": {},
     "output_type": "execute_result"
    }
   ],
   "source": [
    "# make sure they're all identical like this\n",
    "(df_08.columns == df_18.columns).all()"
   ]
  },
  {
   "cell_type": "code",
   "execution_count": 54,
   "metadata": {},
   "outputs": [],
   "source": [
    "df_08.to_csv('Datasets/EPA/data_08_v1.csv', index=False)\n",
    "df_18.to_csv('Datasets/EPA/data_18_v1.csv', index=False)"
   ]
  },
  {
   "cell_type": "markdown",
   "metadata": {},
   "source": [
    "## Filter, drop nulls, and delete duplicates"
   ]
  },
  {
   "cell_type": "code",
   "execution_count": 67,
   "metadata": {},
   "outputs": [],
   "source": [
    "# Filter to cars certified by california standards (cert_region = CA), and then drop cert_region\n",
    "col = 'cert_region'\n",
    "col_val = 'CA'\n",
    "df_08 = df_08.query(f'{col} == \"{col_val}\"')\n",
    "df_18 = df_18.query(f'{col} == \"{col_val}\"')"
   ]
  },
  {
   "cell_type": "code",
   "execution_count": 73,
   "metadata": {},
   "outputs": [
    {
     "data": {
      "text/plain": "model                   0\ndispl                   0\ncyl                     0\ntrans                   0\ndrive                   0\nfuel                    0\ncert_region             0\nveh_class               0\nair_pollution_score     0\ncity_mpg                0\nhwy_mpg                 0\ncmb_mpg                 0\ngreenhouse_gas_score    0\nsmartway                0\ndtype: int64"
     },
     "execution_count": 73,
     "metadata": {},
     "output_type": "execute_result"
    }
   ],
   "source": [
    "df_08.isna().sum()"
   ]
  },
  {
   "cell_type": "code",
   "execution_count": 74,
   "metadata": {},
   "outputs": [
    {
     "data": {
      "text/plain": "model                   0\ndispl                   0\ncyl                     0\ntrans                   0\ndrive                   0\nfuel                    0\ncert_region             0\nveh_class               0\nair_pollution_score     0\ncity_mpg                0\nhwy_mpg                 0\ncmb_mpg                 0\ngreenhouse_gas_score    0\nsmartway                0\ndtype: int64"
     },
     "execution_count": 74,
     "metadata": {},
     "output_type": "execute_result"
    }
   ],
   "source": [
    "df_18.isnull().sum()\n"
   ]
  },
  {
   "cell_type": "code",
   "execution_count": 72,
   "metadata": {},
   "outputs": [],
   "source": [
    "# drop rows with any null values in both datasets\n",
    "df_08.dropna(inplace = True)\n",
    "df_18.dropna(inplace = True)"
   ]
  },
  {
   "cell_type": "code",
   "execution_count": null,
   "metadata": {},
   "outputs": [],
   "source": []
  }
 ],
 "metadata": {
  "kernelspec": {
   "display_name": "Python 3",
   "language": "python",
   "name": "python3"
  },
  "language_info": {
   "codemirror_mode": {
    "name": "ipython",
    "version": 3
   },
   "file_extension": ".py",
   "mimetype": "text/x-python",
   "name": "python",
   "nbconvert_exporter": "python",
   "pygments_lexer": "ipython3",
   "version": "3.7.6-final"
  }
 },
 "nbformat": 4,
 "nbformat_minor": 2
}