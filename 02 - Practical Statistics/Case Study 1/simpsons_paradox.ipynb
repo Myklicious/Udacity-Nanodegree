{
 "cells": [
  {
   "cell_type": "markdown",
   "metadata": {
    "collapsed": true
   },
   "source": [
    "# Simpson's Paradox\n",
    "Use `admission_data.csv` for this exercise."
   ]
  },
  {
   "cell_type": "code",
   "execution_count": 2,
   "metadata": {},
   "outputs": [
    {
     "output_type": "execute_result",
     "data": {
      "text/plain": "   student_id  gender      major  admitted\n0       35377  female  Chemistry     False\n1       56105    male    Physics      True\n2       31441  female  Chemistry     False\n3       51765    male    Physics      True\n4       53714  female    Physics      True",
      "text/html": "<div>\n<style scoped>\n    .dataframe tbody tr th:only-of-type {\n        vertical-align: middle;\n    }\n\n    .dataframe tbody tr th {\n        vertical-align: top;\n    }\n\n    .dataframe thead th {\n        text-align: right;\n    }\n</style>\n<table border=\"1\" class=\"dataframe\">\n  <thead>\n    <tr style=\"text-align: right;\">\n      <th></th>\n      <th>student_id</th>\n      <th>gender</th>\n      <th>major</th>\n      <th>admitted</th>\n    </tr>\n  </thead>\n  <tbody>\n    <tr>\n      <th>0</th>\n      <td>35377</td>\n      <td>female</td>\n      <td>Chemistry</td>\n      <td>False</td>\n    </tr>\n    <tr>\n      <th>1</th>\n      <td>56105</td>\n      <td>male</td>\n      <td>Physics</td>\n      <td>True</td>\n    </tr>\n    <tr>\n      <th>2</th>\n      <td>31441</td>\n      <td>female</td>\n      <td>Chemistry</td>\n      <td>False</td>\n    </tr>\n    <tr>\n      <th>3</th>\n      <td>51765</td>\n      <td>male</td>\n      <td>Physics</td>\n      <td>True</td>\n    </tr>\n    <tr>\n      <th>4</th>\n      <td>53714</td>\n      <td>female</td>\n      <td>Physics</td>\n      <td>True</td>\n    </tr>\n  </tbody>\n</table>\n</div>"
     },
     "metadata": {},
     "execution_count": 2
    }
   ],
   "source": [
    "# Load and view first few lines of dataset\n",
    "import pandas as pd\n",
    "import numpy as np\n",
    "\n",
    "df = pd.read_csv('admission_data.csv')\n",
    "df.head()"
   ]
  },
  {
   "cell_type": "markdown",
   "metadata": {},
   "source": [
    "### Proportion and admission rate for each gender"
   ]
  },
  {
   "cell_type": "code",
   "execution_count": 6,
   "metadata": {
    "collapsed": true
   },
   "outputs": [
    {
     "output_type": "execute_result",
     "data": {
      "text/plain": "0.514"
     },
     "metadata": {},
     "execution_count": 6
    }
   ],
   "source": [
    "# Proportion of students that are female\n",
    "# using query\n",
    "female_df = df.query('gender == \"female\"')\n",
    "total_count = df.shape[0]\n",
    "female_count = female_df.shape[0]\n",
    "perc_female = female_count/total_count\n",
    "perc_female"
   ]
  },
  {
   "cell_type": "code",
   "execution_count": 13,
   "metadata": {
    "collapsed": true
   },
   "outputs": [
    {
     "output_type": "execute_result",
     "data": {
      "text/plain": "0.486"
     },
     "metadata": {},
     "execution_count": 13
    }
   ],
   "source": [
    "# Proportion of students that are male\n",
    "# utilize masks\n",
    "mask = df['gender'] == 'male'\n",
    "male_count = df[mask].shape[0]\n",
    "perc_male = male_count/total_count\n",
    "perc_male"
   ]
  },
  {
   "cell_type": "code",
   "execution_count": 16,
   "metadata": {
    "collapsed": true
   },
   "outputs": [
    {
     "output_type": "execute_result",
     "data": {
      "text/plain": "0.28793774319066145"
     },
     "metadata": {},
     "execution_count": 16
    }
   ],
   "source": [
    "# Admission rate for females\n",
    "female_admit_count = df.query('gender == \"female\" and admitted == True').shape[0]\n",
    "perc_female_admit = female_admit_count/female_count\n",
    "perc_female_admit"
   ]
  },
  {
   "cell_type": "code",
   "execution_count": 31,
   "metadata": {
    "collapsed": true
   },
   "outputs": [
    {
     "output_type": "execute_result",
     "data": {
      "text/plain": "0.48559670781893005"
     },
     "metadata": {},
     "execution_count": 31
    }
   ],
   "source": [
    "# Admission rate for males\n",
    "mask = (df['gender'] == 'male') & (df['admitted'] == True)\n",
    "male_admit_count = df[mask].shape[0]\n",
    "perc_male_admit = male_admit_count/male_count\n",
    "perc_male_admit\n",
    "#or\n",
    "df[df['gender'] == \"male\"]['admitted'].mean()"
   ]
  },
  {
   "cell_type": "markdown",
   "metadata": {},
   "source": [
    "### Proportion and admission rate for physics majors of each gender"
   ]
  },
  {
   "cell_type": "code",
   "execution_count": 34,
   "metadata": {
    "collapsed": true
   },
   "outputs": [
    {
     "output_type": "execute_result",
     "data": {
      "text/plain": "0.12062256809338522"
     },
     "metadata": {},
     "execution_count": 34
    }
   ],
   "source": [
    "# What proportion of female students are majoring in physics?\n",
    "female_physics = df.query('gender == \"female\" and major == \"Physics\"').shape[0]\n",
    "perc_female_physics = female_physics/female_count\n",
    "perc_female_physics"
   ]
  },
  {
   "cell_type": "code",
   "execution_count": 35,
   "metadata": {
    "collapsed": true
   },
   "outputs": [
    {
     "output_type": "execute_result",
     "data": {
      "text/plain": "0.9259259259259259"
     },
     "metadata": {},
     "execution_count": 35
    }
   ],
   "source": [
    "# What proportion of male students are majoring in physics?\n",
    "male_physics = df.query('gender == \"male\" and major == \"Physics\"').shape[0]\n",
    "perc_male_physics = male_physics/male_count\n",
    "perc_male_physics"
   ]
  },
  {
   "cell_type": "code",
   "execution_count": 37,
   "metadata": {
    "collapsed": true
   },
   "outputs": [
    {
     "output_type": "execute_result",
     "data": {
      "text/plain": "0.7419354838709677"
     },
     "metadata": {},
     "execution_count": 37
    }
   ],
   "source": [
    "# Admission rate for female physics majors\n",
    "female_physics_admit = df.query('gender == \"female\" and major == \"Physics\" and admitted == True').shape[0]/female_physics\n",
    "female_physics_admit"
   ]
  },
  {
   "cell_type": "code",
   "execution_count": 38,
   "metadata": {
    "collapsed": true
   },
   "outputs": [
    {
     "output_type": "execute_result",
     "data": {
      "text/plain": "0.5155555555555555"
     },
     "metadata": {},
     "execution_count": 38
    }
   ],
   "source": [
    "# Admission rate for male physics majors\n",
    "male_physics_admit = df.query('gender == \"male\" and major == \"Physics\" and admitted == True').shape[0]/male_physics\n",
    "male_physics_admit"
   ]
  },
  {
   "cell_type": "markdown",
   "metadata": {},
   "source": [
    "### Proportion and admission rate for chemistry majors of each gender"
   ]
  },
  {
   "cell_type": "code",
   "execution_count": 39,
   "metadata": {
    "collapsed": true
   },
   "outputs": [
    {
     "output_type": "execute_result",
     "data": {
      "text/plain": "0.8793774319066148"
     },
     "metadata": {},
     "execution_count": 39
    }
   ],
   "source": [
    "# What proportion of female students are majoring in chemistry?\n",
    "female_Chemistry = df.query('gender == \"female\" and major == \"Chemistry\"').shape[0]\n",
    "perc_female_Chemistry = female_Chemistry/female_count\n",
    "perc_female_Chemistry"
   ]
  },
  {
   "cell_type": "code",
   "execution_count": 40,
   "metadata": {
    "collapsed": true
   },
   "outputs": [
    {
     "output_type": "execute_result",
     "data": {
      "text/plain": "0.07407407407407407"
     },
     "metadata": {},
     "execution_count": 40
    }
   ],
   "source": [
    "# What proportion of male students are majoring in chemistry?\n",
    "male_Chemistry = df.query('gender == \"male\" and major == \"Chemistry\"').shape[0]\n",
    "perc_male_Chemistry = male_Chemistry/male_count\n",
    "perc_male_Chemistry"
   ]
  },
  {
   "cell_type": "code",
   "execution_count": 41,
   "metadata": {
    "collapsed": true
   },
   "outputs": [
    {
     "output_type": "execute_result",
     "data": {
      "text/plain": "0.22566371681415928"
     },
     "metadata": {},
     "execution_count": 41
    }
   ],
   "source": [
    "# Admission rate for female chemistry majors\n",
    "female_Chemistry_admit = df.query('gender == \"female\" and major == \"Chemistry\" and admitted == True').shape[0]/female_Chemistry\n",
    "female_Chemistry_admit"
   ]
  },
  {
   "cell_type": "code",
   "execution_count": 42,
   "metadata": {
    "collapsed": true
   },
   "outputs": [
    {
     "output_type": "execute_result",
     "data": {
      "text/plain": "0.1111111111111111"
     },
     "metadata": {},
     "execution_count": 42
    }
   ],
   "source": [
    "# Admission rate for male chemistry majors\n",
    "male_Chemistry_admit = df.query('gender == \"male\" and major == \"Chemistry\" and admitted == True').shape[0]/male_Chemistry\n",
    "male_Chemistry_admit"
   ]
  },
  {
   "cell_type": "markdown",
   "metadata": {},
   "source": [
    "### Admission rate for each major"
   ]
  },
  {
   "cell_type": "code",
   "execution_count": 44,
   "metadata": {
    "collapsed": true
   },
   "outputs": [
    {
     "output_type": "execute_result",
     "data": {
      "text/plain": "0.54296875"
     },
     "metadata": {},
     "execution_count": 44
    }
   ],
   "source": [
    "# Admission rate for physics majors\n",
    "mask = df['major'] == 'Physics'\n",
    "df[mask]['admitted'].mean()"
   ]
  },
  {
   "cell_type": "code",
   "execution_count": 45,
   "metadata": {
    "collapsed": true
   },
   "outputs": [
    {
     "output_type": "execute_result",
     "data": {
      "text/plain": "0.21721311475409835"
     },
     "metadata": {},
     "execution_count": 45
    }
   ],
   "source": [
    "# Admission rate for chemistry majors\n",
    "mask = df['major'] == 'Chemistry'\n",
    "df[mask]['admitted'].mean()"
   ]
  },
  {
   "cell_type": "code",
   "execution_count": null,
   "metadata": {},
   "outputs": [],
   "source": []
  }
 ],
 "metadata": {
  "kernelspec": {
   "display_name": "Python 3",
   "language": "python",
   "name": "python3"
  },
  "language_info": {
   "codemirror_mode": {
    "name": "ipython",
    "version": 3
   },
   "file_extension": ".py",
   "mimetype": "text/x-python",
   "name": "python",
   "nbconvert_exporter": "python",
   "pygments_lexer": "ipython3",
   "version": "3.7.6-final"
  }
 },
 "nbformat": 4,
 "nbformat_minor": 2
}