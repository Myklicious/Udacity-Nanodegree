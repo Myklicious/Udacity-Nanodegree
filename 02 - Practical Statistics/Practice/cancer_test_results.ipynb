{
 "cells": [
  {
   "cell_type": "markdown",
   "metadata": {
    "collapsed": true
   },
   "source": [
    "# Cancer Test Results"
   ]
  },
  {
   "cell_type": "code",
   "execution_count": 6,
   "metadata": {},
   "outputs": [
    {
     "output_type": "execute_result",
     "data": {
      "text/plain": "   patient_id test_result  has_cancer\n0       79452    Negative       False\n1       81667    Positive        True\n2       76297    Negative       False\n3       36593    Negative       False\n4       53717    Negative       False",
      "text/html": "<div>\n<style scoped>\n    .dataframe tbody tr th:only-of-type {\n        vertical-align: middle;\n    }\n\n    .dataframe tbody tr th {\n        vertical-align: top;\n    }\n\n    .dataframe thead th {\n        text-align: right;\n    }\n</style>\n<table border=\"1\" class=\"dataframe\">\n  <thead>\n    <tr style=\"text-align: right;\">\n      <th></th>\n      <th>patient_id</th>\n      <th>test_result</th>\n      <th>has_cancer</th>\n    </tr>\n  </thead>\n  <tbody>\n    <tr>\n      <th>0</th>\n      <td>79452</td>\n      <td>Negative</td>\n      <td>False</td>\n    </tr>\n    <tr>\n      <th>1</th>\n      <td>81667</td>\n      <td>Positive</td>\n      <td>True</td>\n    </tr>\n    <tr>\n      <th>2</th>\n      <td>76297</td>\n      <td>Negative</td>\n      <td>False</td>\n    </tr>\n    <tr>\n      <th>3</th>\n      <td>36593</td>\n      <td>Negative</td>\n      <td>False</td>\n    </tr>\n    <tr>\n      <th>4</th>\n      <td>53717</td>\n      <td>Negative</td>\n      <td>False</td>\n    </tr>\n  </tbody>\n</table>\n</div>"
     },
     "metadata": {},
     "execution_count": 6
    }
   ],
   "source": [
    "# load dataset\n",
    "import pandas as pd \n",
    "import numpy as np \n",
    "\n",
    "df = pd.read_csv('cancer_test_data.csv')\n",
    "df.head()"
   ]
  },
  {
   "cell_type": "code",
   "execution_count": 8,
   "metadata": {},
   "outputs": [
    {
     "output_type": "execute_result",
     "data": {
      "text/plain": "2914"
     },
     "metadata": {},
     "execution_count": 8
    }
   ],
   "source": [
    "# number of patients\n",
    "patient_count = df.shape[0]\n",
    "patient_count"
   ]
  },
  {
   "cell_type": "code",
   "execution_count": 33,
   "metadata": {},
   "outputs": [
    {
     "output_type": "execute_result",
     "data": {
      "text/plain": "306"
     },
     "metadata": {},
     "execution_count": 33
    }
   ],
   "source": [
    "# number of patients with cancer\n",
    "patient_count_cancer = df.query('has_cancer == True').shape[0]\n",
    "patient_count_cancer"
   ]
  },
  {
   "cell_type": "code",
   "execution_count": 32,
   "metadata": {},
   "outputs": [
    {
     "output_type": "execute_result",
     "data": {
      "text/plain": "2608"
     },
     "metadata": {},
     "execution_count": 32
    }
   ],
   "source": [
    "# number of patients without cancer\n",
    "mask = df['has_cancer'] == False\n",
    "patient_count_nocancer = df[mask].shape[0]\n",
    "patient_count_nocancer "
   ]
  },
  {
   "cell_type": "code",
   "execution_count": 30,
   "metadata": {},
   "outputs": [
    {
     "output_type": "execute_result",
     "data": {
      "text/plain": "0.10501029512697323"
     },
     "metadata": {},
     "execution_count": 30
    }
   ],
   "source": [
    "# proportion of patients with cancer\n",
    "cancer_percent = patient_count_cancer/patient_count\n",
    "cancer_percent"
   ]
  },
  {
   "cell_type": "code",
   "execution_count": 31,
   "metadata": {},
   "outputs": [
    {
     "output_type": "execute_result",
     "data": {
      "text/plain": "0.8949897048730268"
     },
     "metadata": {},
     "execution_count": 31
    }
   ],
   "source": [
    "# proportion of patients without cancer\n",
    "nocancer_percent = patient_count_nocancer/patient_count\n",
    "nocancer_percent"
   ]
  },
  {
   "cell_type": "code",
   "execution_count": 34,
   "metadata": {},
   "outputs": [
    {
     "output_type": "execute_result",
     "data": {
      "text/plain": "0.9052287581699346"
     },
     "metadata": {},
     "execution_count": 34
    }
   ],
   "source": [
    "# proportion of patients with cancer who test positive\n",
    "df_positive = df.query('test_result == \"Positive\"')\n",
    "df_negative = df.query('test_result == \"Negative\"')\n",
    "cancer_pos_percent = df_positive.query('has_cancer == True').shape[0]/patient_count_cancer\n",
    "cancer_pos_percent"
   ]
  },
  {
   "cell_type": "code",
   "execution_count": 35,
   "metadata": {},
   "outputs": [
    {
     "output_type": "execute_result",
     "data": {
      "text/plain": "0.09477124183006536"
     },
     "metadata": {},
     "execution_count": 35
    }
   ],
   "source": [
    "# proportion of patients with cancer who test negative\n",
    "cancer_neg_percent = df_negative.query('has_cancer == True').shape[0]/patient_count_cancer\n",
    "cancer_neg_percent"
   ]
  },
  {
   "cell_type": "code",
   "execution_count": 36,
   "metadata": {},
   "outputs": [
    {
     "output_type": "execute_result",
     "data": {
      "text/plain": "0.2036042944785276"
     },
     "metadata": {},
     "execution_count": 36
    }
   ],
   "source": [
    "# proportion of patients without cancer who test positive\n",
    "nocancer_pos_percent = df_positive.query('has_cancer == False').shape[0]/patient_count_nocancer\n",
    "nocancer_pos_percent"
   ]
  },
  {
   "cell_type": "code",
   "execution_count": 37,
   "metadata": {},
   "outputs": [
    {
     "output_type": "execute_result",
     "data": {
      "text/plain": "0.7963957055214724"
     },
     "metadata": {},
     "execution_count": 37
    }
   ],
   "source": [
    "# proportion of patients without cancer who test negative\n",
    "nocancer_neg_percent = df_negative.query('has_cancer == False').shape[0]/patient_count_nocancer\n",
    "nocancer_neg_percent"
   ]
  },
  {
   "cell_type": "code",
   "execution_count": 38,
   "metadata": {},
   "outputs": [
    {
     "output_type": "execute_result",
     "data": {
      "text/plain": "0.34282178217821785"
     },
     "metadata": {},
     "execution_count": 38
    }
   ],
   "source": [
    "# What proportion of patients who tested positive has cancer?\n",
    "positive_cancer = df_positive.query('has_cancer == True').shape[0]/df_positive.shape[0]\n",
    "positive_cancer"
   ]
  },
  {
   "cell_type": "code",
   "execution_count": 39,
   "metadata": {},
   "outputs": [
    {
     "output_type": "execute_result",
     "data": {
      "text/plain": "0.6571782178217822"
     },
     "metadata": {},
     "execution_count": 39
    }
   ],
   "source": [
    "# What proportion of patients who tested positive doesn't have cancer?\n",
    "positive_nocancer = df_positive.query('has_cancer == False').shape[0]/df_positive.shape[0]\n",
    "positive_nocancer"
   ]
  },
  {
   "cell_type": "code",
   "execution_count": 40,
   "metadata": {},
   "outputs": [
    {
     "output_type": "execute_result",
     "data": {
      "text/plain": "0.013770180436847104"
     },
     "metadata": {},
     "execution_count": 40
    }
   ],
   "source": [
    "# What proportion of patients who tested negative has cancer?\n",
    "negative_cancer = df_negative.query('has_cancer == True').shape[0]/df_negative.shape[0]\n",
    "negative_cancer"
   ]
  },
  {
   "cell_type": "code",
   "execution_count": 41,
   "metadata": {},
   "outputs": [
    {
     "output_type": "execute_result",
     "data": {
      "text/plain": "0.9862298195631529"
     },
     "metadata": {},
     "execution_count": 41
    }
   ],
   "source": [
    "negative_nocancer = df_negative.query('has_cancer == False').shape[0]/df_negative.shape[0]\n",
    "negative_nocancer"
   ]
  },
  {
   "cell_type": "code",
   "execution_count": null,
   "metadata": {},
   "outputs": [],
   "source": []
  }
 ],
 "metadata": {
  "kernelspec": {
   "display_name": "Python 3",
   "language": "python",
   "name": "python3"
  },
  "language_info": {
   "codemirror_mode": {
    "name": "ipython",
    "version": 3
   },
   "file_extension": ".py",
   "mimetype": "text/x-python",
   "name": "python",
   "nbconvert_exporter": "python",
   "pygments_lexer": "ipython3",
   "version": "3.7.6-final"
  }
 },
 "nbformat": 4,
 "nbformat_minor": 2
}