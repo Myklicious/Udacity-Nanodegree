{
 "cells": [
  {
   "cell_type": "markdown",
   "metadata": {},
   "source": [
    "### Interpreting Coefficients\n",
    "\n",
    "It is important that not only can you fit complex linear models, but that you then know which variables you can interpret. \n",
    "\n",
    "In this notebook, you will fit a few different models and use the quizzes below to match the appropriate interpretations to your coefficients when possible.\n",
    "\n",
    "In some cases, the coefficients of your linear regression models wouldn't be kept due to the lack of significance. But that is not the aim of this notebook - **this notebook is strictly to assure you are comfortable with how to interpret coefficients when they are interpretable at all**."
   ]
  },
  {
   "cell_type": "code",
   "execution_count": 1,
   "metadata": {},
   "outputs": [
    {
     "output_type": "execute_result",
     "data": {
      "text/plain": "   house_id neighborhood  area  bedrooms  bathrooms      style    price\n0      1112            B  1188         3          2      ranch   598291\n1       491            B  3512         5          3  victorian  1744259\n2      5952            B  1134         3          2      ranch   571669\n3      3525            A  1940         4          2      ranch   493675\n4      5108            B  2208         6          4  victorian  1101539",
      "text/html": "<div>\n<style scoped>\n    .dataframe tbody tr th:only-of-type {\n        vertical-align: middle;\n    }\n\n    .dataframe tbody tr th {\n        vertical-align: top;\n    }\n\n    .dataframe thead th {\n        text-align: right;\n    }\n</style>\n<table border=\"1\" class=\"dataframe\">\n  <thead>\n    <tr style=\"text-align: right;\">\n      <th></th>\n      <th>house_id</th>\n      <th>neighborhood</th>\n      <th>area</th>\n      <th>bedrooms</th>\n      <th>bathrooms</th>\n      <th>style</th>\n      <th>price</th>\n    </tr>\n  </thead>\n  <tbody>\n    <tr>\n      <th>0</th>\n      <td>1112</td>\n      <td>B</td>\n      <td>1188</td>\n      <td>3</td>\n      <td>2</td>\n      <td>ranch</td>\n      <td>598291</td>\n    </tr>\n    <tr>\n      <th>1</th>\n      <td>491</td>\n      <td>B</td>\n      <td>3512</td>\n      <td>5</td>\n      <td>3</td>\n      <td>victorian</td>\n      <td>1744259</td>\n    </tr>\n    <tr>\n      <th>2</th>\n      <td>5952</td>\n      <td>B</td>\n      <td>1134</td>\n      <td>3</td>\n      <td>2</td>\n      <td>ranch</td>\n      <td>571669</td>\n    </tr>\n    <tr>\n      <th>3</th>\n      <td>3525</td>\n      <td>A</td>\n      <td>1940</td>\n      <td>4</td>\n      <td>2</td>\n      <td>ranch</td>\n      <td>493675</td>\n    </tr>\n    <tr>\n      <th>4</th>\n      <td>5108</td>\n      <td>B</td>\n      <td>2208</td>\n      <td>6</td>\n      <td>4</td>\n      <td>victorian</td>\n      <td>1101539</td>\n    </tr>\n  </tbody>\n</table>\n</div>"
     },
     "metadata": {},
     "execution_count": 1
    }
   ],
   "source": [
    "import numpy as np\n",
    "import pandas as pd\n",
    "import statsmodels.api as sm;\n",
    "\n",
    "df = pd.read_csv('./house_prices.csv')\n",
    "df.head()"
   ]
  },
  {
   "cell_type": "markdown",
   "metadata": {},
   "source": [
    "We will be fitting a number of different models to this dataset throughout this notebook.  For each model, there is a quiz question that will allow you to match the interpretations of the model coefficients to the corresponding values.  If there is no 'nice' interpretation, this is also an option!\n",
    "\n",
    "### Model 1\n",
    "\n",
    "`1.` For the first model, fit a model to predict `price` using `neighborhood`, `style`, and the `area` of the home.  Use the output to match the correct values to the corresponding interpretation in quiz 1 below.  Don't forget an intercept!  You will also need to build your dummy variables, and don't forget to drop one of the columns when you are fitting your linear model. It may be easiest to connect your interpretations to the values in the first quiz by creating the baselines as neighborhood C and home style **lodge**."
   ]
  },
  {
   "cell_type": "code",
   "execution_count": 3,
   "metadata": {},
   "outputs": [
    {
     "output_type": "execute_result",
     "data": {
      "text/plain": "   house_id neighborhood  area  bedrooms  bathrooms      style    price  A  B  \\\n0      1112            B  1188         3          2      ranch   598291  0  1   \n1       491            B  3512         5          3  victorian  1744259  0  1   \n2      5952            B  1134         3          2      ranch   571669  0  1   \n3      3525            A  1940         4          2      ranch   493675  1  0   \n4      5108            B  2208         6          4  victorian  1101539  0  1   \n\n   C  lodge  ranch  victorian  intercept  \n0  0      0      1          0          1  \n1  0      0      0          1          1  \n2  0      0      1          0          1  \n3  0      0      1          0          1  \n4  0      0      0          1          1  ",
      "text/html": "<div>\n<style scoped>\n    .dataframe tbody tr th:only-of-type {\n        vertical-align: middle;\n    }\n\n    .dataframe tbody tr th {\n        vertical-align: top;\n    }\n\n    .dataframe thead th {\n        text-align: right;\n    }\n</style>\n<table border=\"1\" class=\"dataframe\">\n  <thead>\n    <tr style=\"text-align: right;\">\n      <th></th>\n      <th>house_id</th>\n      <th>neighborhood</th>\n      <th>area</th>\n      <th>bedrooms</th>\n      <th>bathrooms</th>\n      <th>style</th>\n      <th>price</th>\n      <th>A</th>\n      <th>B</th>\n      <th>C</th>\n      <th>lodge</th>\n      <th>ranch</th>\n      <th>victorian</th>\n      <th>intercept</th>\n    </tr>\n  </thead>\n  <tbody>\n    <tr>\n      <th>0</th>\n      <td>1112</td>\n      <td>B</td>\n      <td>1188</td>\n      <td>3</td>\n      <td>2</td>\n      <td>ranch</td>\n      <td>598291</td>\n      <td>0</td>\n      <td>1</td>\n      <td>0</td>\n      <td>0</td>\n      <td>1</td>\n      <td>0</td>\n      <td>1</td>\n    </tr>\n    <tr>\n      <th>1</th>\n      <td>491</td>\n      <td>B</td>\n      <td>3512</td>\n      <td>5</td>\n      <td>3</td>\n      <td>victorian</td>\n      <td>1744259</td>\n      <td>0</td>\n      <td>1</td>\n      <td>0</td>\n      <td>0</td>\n      <td>0</td>\n      <td>1</td>\n      <td>1</td>\n    </tr>\n    <tr>\n      <th>2</th>\n      <td>5952</td>\n      <td>B</td>\n      <td>1134</td>\n      <td>3</td>\n      <td>2</td>\n      <td>ranch</td>\n      <td>571669</td>\n      <td>0</td>\n      <td>1</td>\n      <td>0</td>\n      <td>0</td>\n      <td>1</td>\n      <td>0</td>\n      <td>1</td>\n    </tr>\n    <tr>\n      <th>3</th>\n      <td>3525</td>\n      <td>A</td>\n      <td>1940</td>\n      <td>4</td>\n      <td>2</td>\n      <td>ranch</td>\n      <td>493675</td>\n      <td>1</td>\n      <td>0</td>\n      <td>0</td>\n      <td>0</td>\n      <td>1</td>\n      <td>0</td>\n      <td>1</td>\n    </tr>\n    <tr>\n      <th>4</th>\n      <td>5108</td>\n      <td>B</td>\n      <td>2208</td>\n      <td>6</td>\n      <td>4</td>\n      <td>victorian</td>\n      <td>1101539</td>\n      <td>0</td>\n      <td>1</td>\n      <td>0</td>\n      <td>0</td>\n      <td>0</td>\n      <td>1</td>\n      <td>1</td>\n    </tr>\n  </tbody>\n</table>\n</div>"
     },
     "metadata": {},
     "execution_count": 3
    }
   ],
   "source": [
    "dummy_hood = pd.get_dummies(df['neighborhood'])\n",
    "dummy_style = pd.get_dummies(df['style'])\n",
    "df2 = df.join(dummy_hood.join(dummy_style))\n",
    "df2['intercept'] = 1\n",
    "df2.head()"
   ]
  },
  {
   "cell_type": "code",
   "execution_count": 8,
   "metadata": {},
   "outputs": [
    {
     "output_type": "stream",
     "name": "stdout",
     "text": "OLS Regression Results                            \n==============================================================================\nDep. Variable:                  price   R-squared:                       0.919\nModel:                            OLS   Adj. R-squared:                  0.919\nMethod:                 Least Squares   F-statistic:                 1.372e+04\nDate:                Sat, 18 Apr 2020   Prob (F-statistic):               0.00\nTime:                        16:30:06   Log-Likelihood:                -80348.\nNo. Observations:                6028   AIC:                         1.607e+05\nDf Residuals:                    6022   BIC:                         1.607e+05\nDf Model:                           5                                         \nCovariance Type:            nonrobust                                         \n==============================================================================\n                 coef    std err          t      P>|t|      [0.025      0.975]\n------------------------------------------------------------------------------\narea         348.7375      2.205    158.177      0.000     344.415     353.060\nA           -194.2464   4965.459     -0.039      0.969   -9928.324    9539.832\nB           5.243e+05   4687.484    111.844      0.000    5.15e+05    5.33e+05\nranch      -1974.7032   5757.527     -0.343      0.732   -1.33e+04    9312.111\nvictorian  -6262.7365   6893.293     -0.909      0.364   -1.98e+04    7250.586\nintercept  -1.983e+05   5540.744    -35.791      0.000   -2.09e+05   -1.87e+05\n==============================================================================\nOmnibus:                      114.369   Durbin-Watson:                   2.002\nProb(Omnibus):                  0.000   Jarque-Bera (JB):              139.082\nSkew:                           0.271   Prob(JB):                     6.29e-31\nKurtosis:                       3.509   Cond. No.                     1.12e+04\n==============================================================================\n\nWarnings:\n[1] Standard Errors assume that the covariance matrix of the errors is correctly specified.\n[2] The condition number is large, 1.12e+04. This might indicate that there are\nstrong multicollinearity or other numerical problems.\n"
    }
   ],
   "source": [
    "mod = sm.OLS(df2['price'], df2[['area', 'A', 'B', 'ranch','victorian', 'intercept']])\n",
    "res = mod.fit()\n",
    "print(res.summary())"
   ]
  },
  {
   "cell_type": "markdown",
   "metadata": {},
   "source": [
    "### Model 2\n",
    "\n",
    "`2.` Now let's try a second model for predicting price.  This time, use `area` and `area squared` to predict price.  Also use the `style` of the home, but not `neighborhood` this time. You will again need to use your dummy variables, and add an intercept to the model. Use the results of your model to answer quiz questions 2 and 3."
   ]
  },
  {
   "cell_type": "code",
   "execution_count": 7,
   "metadata": {},
   "outputs": [],
   "source": [
    "df2['area_squared'] = df2['area']**2"
   ]
  },
  {
   "cell_type": "code",
   "execution_count": 9,
   "metadata": {},
   "outputs": [
    {
     "output_type": "stream",
     "name": "stdout",
     "text": "OLS Regression Results                            \n==============================================================================\nDep. Variable:                  price   R-squared:                       0.678\nModel:                            OLS   Adj. R-squared:                  0.678\nMethod:                 Least Squares   F-statistic:                     3173.\nDate:                Sat, 18 Apr 2020   Prob (F-statistic):               0.00\nTime:                        16:30:20   Log-Likelihood:                -84516.\nNo. Observations:                6028   AIC:                         1.690e+05\nDf Residuals:                    6023   BIC:                         1.691e+05\nDf Model:                           4                                         \nCovariance Type:            nonrobust                                         \n================================================================================\n                   coef    std err          t      P>|t|      [0.025      0.975]\n--------------------------------------------------------------------------------\narea           334.0146     13.525     24.696      0.000     307.501     360.528\narea_squared     0.0029      0.002      1.283      0.199      -0.002       0.007\nranch         9917.2547   1.27e+04      0.781      0.435    -1.5e+04    3.48e+04\nvictorian     2509.3956   1.53e+04      0.164      0.870   -2.75e+04    3.25e+04\nintercept     1.855e+04   1.26e+04      1.467      0.142   -6229.316    4.33e+04\n==============================================================================\nOmnibus:                      375.220   Durbin-Watson:                   2.009\nProb(Omnibus):                  0.000   Jarque-Bera (JB):              340.688\nSkew:                           0.519   Prob(JB):                     1.05e-74\nKurtosis:                       2.471   Cond. No.                     4.33e+07\n==============================================================================\n\nWarnings:\n[1] Standard Errors assume that the covariance matrix of the errors is correctly specified.\n[2] The condition number is large, 4.33e+07. This might indicate that there are\nstrong multicollinearity or other numerical problems.\n"
    }
   ],
   "source": [
    "mod = sm.OLS(df2['price'], df2[['area', 'area_squared', 'ranch','victorian', 'intercept']])\n",
    "res = mod.fit()\n",
    "print(res.summary())"
   ]
  },
  {
   "cell_type": "code",
   "execution_count": 10,
   "metadata": {},
   "outputs": [
    {
     "output_type": "stream",
     "name": "stdout",
     "text": "OLS Regression Results                            \n==============================================================================\nDep. Variable:                  price   R-squared:                       0.919\nModel:                            OLS   Adj. R-squared:                  0.919\nMethod:                 Least Squares   F-statistic:                 1.144e+04\nDate:                Sat, 18 Apr 2020   Prob (F-statistic):               0.00\nTime:                        16:31:31   Log-Likelihood:                -80345.\nNo. Observations:                6028   AIC:                         1.607e+05\nDf Residuals:                    6021   BIC:                         1.608e+05\nDf Model:                           6                                         \nCovariance Type:            nonrobust                                         \n================================================================================\n                   coef    std err          t      P>|t|      [0.025      0.975]\n--------------------------------------------------------------------------------\nA             -248.3127   4963.602     -0.050      0.960   -9978.750    9482.124\nB             5.242e+05   4685.714    111.877      0.000    5.15e+05    5.33e+05\narea           333.5383      6.772     49.256      0.000     320.264     346.813\narea_squared     0.0027      0.001      2.374      0.018       0.000       0.005\nranch         4458.3334   6361.432      0.701      0.483   -8012.351    1.69e+04\nvictorian     1650.2605   7654.606      0.216      0.829   -1.34e+04    1.67e+04\nintercept    -1.881e+05   7023.287    -26.776      0.000   -2.02e+05   -1.74e+05\n==============================================================================\nOmnibus:                       57.788   Durbin-Watson:                   2.002\nProb(Omnibus):                  0.000   Jarque-Bera (JB):               70.025\nSkew:                           0.168   Prob(JB):                     6.23e-16\nKurtosis:                       3.407   Cond. No.                     4.33e+07\n==============================================================================\n\nWarnings:\n[1] Standard Errors assume that the covariance matrix of the errors is correctly specified.\n[2] The condition number is large, 4.33e+07. This might indicate that there are\nstrong multicollinearity or other numerical problems.\n"
    }
   ],
   "source": [
    "mod = sm.OLS(df2['price'], df2[['A', 'B', 'area', 'area_squared', 'ranch','victorian', 'intercept']])\n",
    "res = mod.fit()\n",
    "print(res.summary())"
   ]
  },
  {
   "cell_type": "code",
   "execution_count": null,
   "metadata": {},
   "outputs": [],
   "source": []
  }
 ],
 "metadata": {
  "kernelspec": {
   "display_name": "Python 3",
   "language": "python",
   "name": "python3"
  },
  "language_info": {
   "codemirror_mode": {
    "name": "ipython",
    "version": 3
   },
   "file_extension": ".py",
   "mimetype": "text/x-python",
   "name": "python",
   "nbconvert_exporter": "python",
   "pygments_lexer": "ipython3",
   "version": "3.7.6-final"
  }
 },
 "nbformat": 4,
 "nbformat_minor": 2
}