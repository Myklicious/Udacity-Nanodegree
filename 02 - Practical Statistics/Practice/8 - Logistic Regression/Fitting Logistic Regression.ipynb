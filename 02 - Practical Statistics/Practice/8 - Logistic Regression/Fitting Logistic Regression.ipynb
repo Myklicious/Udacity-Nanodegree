{
 "cells": [
  {
   "cell_type": "markdown",
   "metadata": {},
   "source": [
    "### Fitting Logistic Regression\n",
    "\n",
    "In this first notebook, you will be fitting a logistic regression model to a dataset where we would like to predict if a transaction is fraud or not.\n",
    "\n",
    "To get started let's read in the libraries and take a quick look at the dataset."
   ],
   "execution_count": null,
   "outputs": []
  },
  {
   "cell_type": "code",
   "execution_count": 16,
   "metadata": {},
   "outputs": [
    {
     "output_type": "execute_result",
     "data": {
      "text/plain": "   transaction_id   duration      day  fraud\n0           28891  21.302600  weekend  False\n1           61629  22.932765  weekend  False\n2           53707  32.694992  weekday  False\n3           47812  32.784252  weekend  False\n4           43455  17.756828  weekend  False",
      "text/html": "<div>\n<style scoped>\n    .dataframe tbody tr th:only-of-type {\n        vertical-align: middle;\n    }\n\n    .dataframe tbody tr th {\n        vertical-align: top;\n    }\n\n    .dataframe thead th {\n        text-align: right;\n    }\n</style>\n<table border=\"1\" class=\"dataframe\">\n  <thead>\n    <tr style=\"text-align: right;\">\n      <th></th>\n      <th>transaction_id</th>\n      <th>duration</th>\n      <th>day</th>\n      <th>fraud</th>\n    </tr>\n  </thead>\n  <tbody>\n    <tr>\n      <th>0</th>\n      <td>28891</td>\n      <td>21.302600</td>\n      <td>weekend</td>\n      <td>False</td>\n    </tr>\n    <tr>\n      <th>1</th>\n      <td>61629</td>\n      <td>22.932765</td>\n      <td>weekend</td>\n      <td>False</td>\n    </tr>\n    <tr>\n      <th>2</th>\n      <td>53707</td>\n      <td>32.694992</td>\n      <td>weekday</td>\n      <td>False</td>\n    </tr>\n    <tr>\n      <th>3</th>\n      <td>47812</td>\n      <td>32.784252</td>\n      <td>weekend</td>\n      <td>False</td>\n    </tr>\n    <tr>\n      <th>4</th>\n      <td>43455</td>\n      <td>17.756828</td>\n      <td>weekend</td>\n      <td>False</td>\n    </tr>\n  </tbody>\n</table>\n</div>"
     },
     "metadata": {},
     "execution_count": 16
    }
   ],
   "source": [
    "import numpy as np\n",
    "import pandas as pd\n",
    "import statsmodels.api as sm\n",
    "import math as m\n",
    "\n",
    "df = pd.read_csv('./fraud_dataset.csv')\n",
    "df.head()"
   ]
  },
  {
   "cell_type": "markdown",
   "metadata": {},
   "source": [
    "`1.` As you can see, there are two columns that need to be changed to dummy variables.  Replace each of the current columns to the dummy version.  Use the 1 for `weekday` and `True`, and 0 otherwise.  Use the first quiz to answer a few questions about the dataset."
   ],
   "execution_count": null,
   "outputs": []
  },
  {
   "cell_type": "code",
   "execution_count": 7,
   "metadata": {},
   "outputs": [
    {
     "output_type": "execute_result",
     "data": {
      "text/plain": "   transaction_id   duration      day  fraud  weekday  intercept\n0           28891  21.302600  weekend      0        0          1\n1           61629  22.932765  weekend      0        0          1\n2           53707  32.694992  weekday      0        1          1\n3           47812  32.784252  weekend      0        0          1\n4           43455  17.756828  weekend      0        0          1",
      "text/html": "<div>\n<style scoped>\n    .dataframe tbody tr th:only-of-type {\n        vertical-align: middle;\n    }\n\n    .dataframe tbody tr th {\n        vertical-align: top;\n    }\n\n    .dataframe thead th {\n        text-align: right;\n    }\n</style>\n<table border=\"1\" class=\"dataframe\">\n  <thead>\n    <tr style=\"text-align: right;\">\n      <th></th>\n      <th>transaction_id</th>\n      <th>duration</th>\n      <th>day</th>\n      <th>fraud</th>\n      <th>weekday</th>\n      <th>intercept</th>\n    </tr>\n  </thead>\n  <tbody>\n    <tr>\n      <th>0</th>\n      <td>28891</td>\n      <td>21.302600</td>\n      <td>weekend</td>\n      <td>0</td>\n      <td>0</td>\n      <td>1</td>\n    </tr>\n    <tr>\n      <th>1</th>\n      <td>61629</td>\n      <td>22.932765</td>\n      <td>weekend</td>\n      <td>0</td>\n      <td>0</td>\n      <td>1</td>\n    </tr>\n    <tr>\n      <th>2</th>\n      <td>53707</td>\n      <td>32.694992</td>\n      <td>weekday</td>\n      <td>0</td>\n      <td>1</td>\n      <td>1</td>\n    </tr>\n    <tr>\n      <th>3</th>\n      <td>47812</td>\n      <td>32.784252</td>\n      <td>weekend</td>\n      <td>0</td>\n      <td>0</td>\n      <td>1</td>\n    </tr>\n    <tr>\n      <th>4</th>\n      <td>43455</td>\n      <td>17.756828</td>\n      <td>weekend</td>\n      <td>0</td>\n      <td>0</td>\n      <td>1</td>\n    </tr>\n  </tbody>\n</table>\n</div>"
     },
     "metadata": {},
     "execution_count": 7
    }
   ],
   "source": [
    "day = pd.get_dummies(df['day'])\n",
    "fraud = pd.get_dummies(df['fraud'])\n",
    "df['fraud'] = fraud[True]\n",
    "df['weekday'] = day['weekday']\n",
    "df['intercept'] = 1\n",
    "df.head()\n",
    ""
   ]
  },
  {
   "cell_type": "code",
   "execution_count": 8,
   "metadata": {},
   "outputs": [
    {
     "output_type": "execute_result",
     "data": {
      "text/plain": "0.012168770612987604"
     },
     "metadata": {},
     "execution_count": 8
    }
   ],
   "source": [
    "df.fraud.mean()"
   ]
  },
  {
   "cell_type": "code",
   "execution_count": 9,
   "metadata": {},
   "outputs": [
    {
     "output_type": "execute_result",
     "data": {
      "text/plain": "4.624247370615658"
     },
     "metadata": {},
     "execution_count": 9
    }
   ],
   "source": [
    "df.query('fraud == 1')['duration'].mean()"
   ]
  },
  {
   "cell_type": "code",
   "execution_count": 10,
   "metadata": {},
   "outputs": [
    {
     "output_type": "execute_result",
     "data": {
      "text/plain": "0.3452746502900034"
     },
     "metadata": {},
     "execution_count": 10
    }
   ],
   "source": [
    "df.weekday.mean()"
   ]
  },
  {
   "cell_type": "code",
   "execution_count": 11,
   "metadata": {},
   "outputs": [
    {
     "output_type": "execute_result",
     "data": {
      "text/plain": "30.013583132522584"
     },
     "metadata": {},
     "execution_count": 11
    }
   ],
   "source": [
    "df.query('fraud == 0')['duration'].mean()"
   ]
  },
  {
   "cell_type": "markdown",
   "metadata": {},
   "source": [
    "`2.` Now that you have dummy variables, fit a logistic regression model to predict if a transaction is fraud using both day and duration.  Don't forget an intercept!  Use the second quiz below to assure you fit the model correctly."
   ],
   "execution_count": null,
   "outputs": []
  },
  {
   "cell_type": "code",
   "execution_count": 13,
   "metadata": {},
   "outputs": [
    {
     "output_type": "stream",
     "name": "stdout",
     "text": "Optimization terminated successfully.\n         Current function value: inf\n         Iterations 16\n                           Logit Regression Results                           \n==============================================================================\nDep. Variable:                  fraud   No. Observations:                 8793\nModel:                          Logit   Df Residuals:                     8790\nMethod:                           MLE   Df Model:                            2\nDate:                Sat, 18 Apr 2020   Pseudo R-squ.:                     inf\nTime:                        21:29:59   Log-Likelihood:                   -inf\nconverged:                       True   LL-Null:                        0.0000\nCovariance Type:            nonrobust   LLR p-value:                     1.000\n==============================================================================\n                 coef    std err          z      P>|z|      [0.025      0.975]\n------------------------------------------------------------------------------\nweekday        2.5465      0.904      2.816      0.005       0.774       4.319\nduration      -1.4637      0.290     -5.039      0.000      -2.033      -0.894\nintercept      9.8709      1.944      5.078      0.000       6.061      13.681\n==============================================================================\n\nPossibly complete quasi-separation: A fraction 0.98 of observations can be\nperfectly predicted. This might indicate that there is complete\nquasi-separation. In this case some parameters will not be identified.\nC:\\tools\\Anaconda3\\lib\\site-packages\\statsmodels\\base\\model.py:548: HessianInversionWarning: Inverting hessian failed, no bse or cov_params available\n  'available', HessianInversionWarning)\nC:\\tools\\Anaconda3\\lib\\site-packages\\statsmodels\\base\\model.py:548: HessianInversionWarning: Inverting hessian failed, no bse or cov_params available\n  'available', HessianInversionWarning)\n"
    }
   ],
   "source": [
    "mod = sm.Logit(df['fraud'], df[['weekday', 'duration', 'intercept']])\n",
    "res = mod.fit()\n",
    "print(res.summary())"
   ]
  },
  {
   "cell_type": "code",
   "execution_count": 18,
   "metadata": {},
   "outputs": [
    {
     "output_type": "execute_result",
     "data": {
      "text/plain": "12.762357271496972"
     },
     "metadata": {},
     "execution_count": 18
    }
   ],
   "source": [
    "m.exp(2.5465)"
   ]
  },
  {
   "cell_type": "code",
   "execution_count": 19,
   "metadata": {},
   "outputs": [
    {
     "output_type": "execute_result",
     "data": {
      "text/plain": "4.321921089278333"
     },
     "metadata": {},
     "execution_count": 19
    }
   ],
   "source": [
    "m.exp(1.4637)"
   ]
  },
  {
   "cell_type": "code",
   "execution_count": null,
   "metadata": {},
   "outputs": [],
   "source": []
  }
 ],
 "metadata": {
  "kernelspec": {
   "display_name": "Python 3",
   "language": "python",
   "name": "python3"
  },
  "language_info": {
   "codemirror_mode": {
    "name": "ipython",
    "version": 3
   },
   "file_extension": ".py",
   "mimetype": "text/x-python",
   "name": "python",
   "nbconvert_exporter": "python",
   "pygments_lexer": "ipython3",
   "version": "3.7.6-final"
  }
 },
 "nbformat": 4,
 "nbformat_minor": 2
}