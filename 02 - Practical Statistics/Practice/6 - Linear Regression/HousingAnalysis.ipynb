{
 "cells": [
  {
   "cell_type": "markdown",
   "metadata": {},
   "source": [
    "### Housing Analysis\n",
    "\n",
    "In this notebook, you will be replicating much of what you saw in this lesson using the housing data shown below.\n",
    "\n",
    "After you complete this notebook and the set of quizzes that follow, you will be set to try out your skills on a couple new datasets to gain some additional practice.  **Ignore the warning message**."
   ]
  },
  {
   "cell_type": "code",
   "execution_count": 1,
   "metadata": {},
   "outputs": [
    {
     "output_type": "execute_result",
     "data": {
      "text/plain": "     price  area\n0   598291  1188\n1  1744259  3512\n2   571669  1134\n3   493675  1940\n4  1101539  2208",
      "text/html": "<div>\n<style scoped>\n    .dataframe tbody tr th:only-of-type {\n        vertical-align: middle;\n    }\n\n    .dataframe tbody tr th {\n        vertical-align: top;\n    }\n\n    .dataframe thead th {\n        text-align: right;\n    }\n</style>\n<table border=\"1\" class=\"dataframe\">\n  <thead>\n    <tr style=\"text-align: right;\">\n      <th></th>\n      <th>price</th>\n      <th>area</th>\n    </tr>\n  </thead>\n  <tbody>\n    <tr>\n      <th>0</th>\n      <td>598291</td>\n      <td>1188</td>\n    </tr>\n    <tr>\n      <th>1</th>\n      <td>1744259</td>\n      <td>3512</td>\n    </tr>\n    <tr>\n      <th>2</th>\n      <td>571669</td>\n      <td>1134</td>\n    </tr>\n    <tr>\n      <th>3</th>\n      <td>493675</td>\n      <td>1940</td>\n    </tr>\n    <tr>\n      <th>4</th>\n      <td>1101539</td>\n      <td>2208</td>\n    </tr>\n  </tbody>\n</table>\n</div>"
     },
     "metadata": {},
     "execution_count": 1
    }
   ],
   "source": [
    "import numpy as np\n",
    "import pandas as pd\n",
    "import statsmodels.api as sm;\n",
    "\n",
    "df = pd.read_csv('./house_price_area_only.csv')\n",
    "df.head()"
   ]
  },
  {
   "cell_type": "markdown",
   "metadata": {
    "collapsed": true
   },
   "source": [
    "`1.` Use the documentation [here](http://www.statsmodels.org/dev/regression.html) and the **statsmodels** library to fit a linear model to predict **price** based on **area**.  Obtain a summary of the results, and use them to answer the following quiz questions. Don't forget to add an intercept."
   ]
  },
  {
   "cell_type": "code",
   "execution_count": 3,
   "metadata": {},
   "outputs": [
    {
     "output_type": "execute_result",
     "data": {
      "text/plain": "     price  area  intercept\n0   598291  1188          1\n1  1744259  3512          1\n2   571669  1134          1\n3   493675  1940          1\n4  1101539  2208          1",
      "text/html": "<div>\n<style scoped>\n    .dataframe tbody tr th:only-of-type {\n        vertical-align: middle;\n    }\n\n    .dataframe tbody tr th {\n        vertical-align: top;\n    }\n\n    .dataframe thead th {\n        text-align: right;\n    }\n</style>\n<table border=\"1\" class=\"dataframe\">\n  <thead>\n    <tr style=\"text-align: right;\">\n      <th></th>\n      <th>price</th>\n      <th>area</th>\n      <th>intercept</th>\n    </tr>\n  </thead>\n  <tbody>\n    <tr>\n      <th>0</th>\n      <td>598291</td>\n      <td>1188</td>\n      <td>1</td>\n    </tr>\n    <tr>\n      <th>1</th>\n      <td>1744259</td>\n      <td>3512</td>\n      <td>1</td>\n    </tr>\n    <tr>\n      <th>2</th>\n      <td>571669</td>\n      <td>1134</td>\n      <td>1</td>\n    </tr>\n    <tr>\n      <th>3</th>\n      <td>493675</td>\n      <td>1940</td>\n      <td>1</td>\n    </tr>\n    <tr>\n      <th>4</th>\n      <td>1101539</td>\n      <td>2208</td>\n      <td>1</td>\n    </tr>\n  </tbody>\n</table>\n</div>"
     },
     "metadata": {},
     "execution_count": 3
    }
   ],
   "source": [
    "df['intercept'] = 1\n",
    "df.head()"
   ]
  },
  {
   "cell_type": "code",
   "execution_count": 5,
   "metadata": {},
   "outputs": [
    {
     "output_type": "stream",
     "name": "stdout",
     "text": "OLS Regression Results                            \n==============================================================================\nDep. Variable:                  price   R-squared:                       0.678\nModel:                            OLS   Adj. R-squared:                  0.678\nMethod:                 Least Squares   F-statistic:                 1.269e+04\nDate:                Thu, 16 Apr 2020   Prob (F-statistic):               0.00\nTime:                        22:02:55   Log-Likelihood:                -84517.\nNo. Observations:                6028   AIC:                         1.690e+05\nDf Residuals:                    6026   BIC:                         1.691e+05\nDf Model:                           1                                         \nCovariance Type:            nonrobust                                         \n==============================================================================\n                 coef    std err          t      P>|t|      [0.025      0.975]\n------------------------------------------------------------------------------\narea         348.4664      3.093    112.662      0.000     342.403     354.530\nintercept   9587.8878   7637.479      1.255      0.209   -5384.303    2.46e+04\n==============================================================================\nOmnibus:                      368.609   Durbin-Watson:                   2.007\nProb(Omnibus):                  0.000   Jarque-Bera (JB):              349.279\nSkew:                           0.534   Prob(JB):                     1.43e-76\nKurtosis:                       2.499   Cond. No.                     4.93e+03\n==============================================================================\n\nWarnings:\n[1] Standard Errors assume that the covariance matrix of the errors is correctly specified.\n[2] The condition number is large, 4.93e+03. This might indicate that there are\nstrong multicollinearity or other numerical problems.\n"
    }
   ],
   "source": [
    "mod = sm.OLS(df['price'], df[['area', 'intercept']])\n",
    "res = mod.fit()\n",
    "\n",
    "print(res.summary())"
   ]
  },
  {
   "cell_type": "code",
   "execution_count": 6,
   "metadata": {},
   "outputs": [
    {
     "output_type": "execute_result",
     "data": {
      "text/plain": "      area  intercept\n0     1188          1\n1     3512          1\n2     1134          1\n3     1940          1\n4     2208          1\n...    ...        ...\n6023   757          1\n6024  3540          1\n6025  1518          1\n6026  2270          1\n6027  3355          1\n\n[6028 rows x 2 columns]",
      "text/html": "<div>\n<style scoped>\n    .dataframe tbody tr th:only-of-type {\n        vertical-align: middle;\n    }\n\n    .dataframe tbody tr th {\n        vertical-align: top;\n    }\n\n    .dataframe thead th {\n        text-align: right;\n    }\n</style>\n<table border=\"1\" class=\"dataframe\">\n  <thead>\n    <tr style=\"text-align: right;\">\n      <th></th>\n      <th>area</th>\n      <th>intercept</th>\n    </tr>\n  </thead>\n  <tbody>\n    <tr>\n      <th>0</th>\n      <td>1188</td>\n      <td>1</td>\n    </tr>\n    <tr>\n      <th>1</th>\n      <td>3512</td>\n      <td>1</td>\n    </tr>\n    <tr>\n      <th>2</th>\n      <td>1134</td>\n      <td>1</td>\n    </tr>\n    <tr>\n      <th>3</th>\n      <td>1940</td>\n      <td>1</td>\n    </tr>\n    <tr>\n      <th>4</th>\n      <td>2208</td>\n      <td>1</td>\n    </tr>\n    <tr>\n      <th>...</th>\n      <td>...</td>\n      <td>...</td>\n    </tr>\n    <tr>\n      <th>6023</th>\n      <td>757</td>\n      <td>1</td>\n    </tr>\n    <tr>\n      <th>6024</th>\n      <td>3540</td>\n      <td>1</td>\n    </tr>\n    <tr>\n      <th>6025</th>\n      <td>1518</td>\n      <td>1</td>\n    </tr>\n    <tr>\n      <th>6026</th>\n      <td>2270</td>\n      <td>1</td>\n    </tr>\n    <tr>\n      <th>6027</th>\n      <td>3355</td>\n      <td>1</td>\n    </tr>\n  </tbody>\n</table>\n<p>6028 rows × 2 columns</p>\n</div>"
     },
     "metadata": {},
     "execution_count": 6
    }
   ],
   "source": [
    "df[['area', 'intercept']]"
   ]
  },
  {
   "cell_type": "code",
   "execution_count": null,
   "metadata": {},
   "outputs": [],
   "source": []
  }
 ],
 "metadata": {
  "kernelspec": {
   "display_name": "Python 3",
   "language": "python",
   "name": "python3"
  },
  "language_info": {
   "codemirror_mode": {
    "name": "ipython",
    "version": 3
   },
   "file_extension": ".py",
   "mimetype": "text/x-python",
   "name": "python",
   "nbconvert_exporter": "python",
   "pygments_lexer": "ipython3",
   "version": "3.7.6-final"
  }
 },
 "nbformat": 4,
 "nbformat_minor": 2
}